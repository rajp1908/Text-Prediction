{
 "cells": [
  {
   "cell_type": "markdown",
   "metadata": {},
   "source": [
    "# NLP using LSTM"
   ]
  },
  {
   "cell_type": "code",
   "execution_count": 1,
   "metadata": {},
   "outputs": [],
   "source": [
    "import tensorflow as tf\n",
    "from tensorflow.keras.preprocessing.text import Tokenizer\n",
    "from tensorflow.keras.preprocessing.sequence import pad_sequences\n",
    "from tensorflow.keras.layers import Embedding, LSTM, Dense, Flatten, Conv1D, GRU, Dropout, Bidirectional\n",
    "from tensorflow.keras.models import Sequential\n",
    "import pandas as pd\n",
    "import numpy as np"
   ]
  },
  {
   "cell_type": "markdown",
   "metadata": {},
   "source": [
    "# Preprocessing on Data\n",
    "# Removing emojis from the chat"
   ]
  },
  {
   "cell_type": "markdown",
   "metadata": {},
   "source": [
    "WhatsApp chat contains a lot of emojis. So need to filter out the input."
   ]
  },
  {
   "cell_type": "code",
   "execution_count": 2,
   "metadata": {},
   "outputs": [
    {
     "name": "stdout",
     "output_type": "stream",
     "text": [
      "['28/08/18, 10:16 am - mummy: bhiya', \"28/08/18, 10:16 am - mummy: aa no par bhi what's app kri didhu\", '28/08/18, 10:16 am - mummy: mummy jode j hse', '28/08/18, 10:17 am - mummy: aetle ame bhar hoe ae to bhi tre vat thay ghre', '28/08/18, 12:52 pm - rp: naaa']\n"
     ]
    }
   ],
   "source": [
    "import sys\n",
    "#This will read emojis as well\n",
    "non_bmp_map = dict.fromkeys(range(0x10000, sys.maxunicode + 1), 0xfffd)\n",
    "\n",
    "data = open(\"chat.txt\",encoding=\"unicode-escape\").read()\n",
    "corpus = data.lower().split(\"\\n\")\n",
    "corpus = corpus[1:]\n",
    "\n",
    "input_data = []\n",
    "i = 0\n",
    "for line in corpus:\n",
    "    text = line.translate(non_bmp_map)\n",
    "    input_data.append(line)\n",
    "    if len(text.split(\"-\")) == 2:\n",
    "        _,b = text.split(\"-\")\n",
    "        if ((\"rp\" in b) & ((len(b.split(\":\")) == 2))):\n",
    "            _,j = b.split(\":\")\n",
    "            if (not \"media omitted\" in j):\n",
    "                input_data.append(j)\n",
    "len(input_data)\n",
    "print(input_data[:5])"
   ]
  },
  {
   "cell_type": "code",
   "execution_count": 3,
   "metadata": {},
   "outputs": [],
   "source": [
    "tokenizer = Tokenizer()\n",
    "tokenizer.fit_on_texts(input_data)\n",
    "total_words = len(tokenizer.word_index) + 1\n",
    "\n",
    "input_sentences = []\n",
    "for line in input_data:\n",
    "    token_list = tokenizer.texts_to_sequences([line])[0]\n",
    "    for i in range(1,len(token_list)):\n",
    "        n_gram = token_list[:i+1]\n",
    "        input_sentences.append(n_gram)\n",
    "        \n",
    "max_sequence_len = max([len(i) for i in input_sentences])\n",
    "input_sentences = np.array(pad_sequences(input_sentences, padding='pre', maxlen = max_sequence_len))\n",
    "\n",
    "training_data = input_sentences[:,:-1]\n",
    "labels = input_sentences[:,-1]\n",
    "\n",
    "training_labels = tf.keras.utils.to_categorical(labels, num_classes = total_words)"
   ]
  },
  {
   "cell_type": "code",
   "execution_count": 4,
   "metadata": {},
   "outputs": [],
   "source": [
    "from tensorflow.keras import regularizers\n",
    "\n",
    "model = Sequential()\n",
    "model.add(Embedding(total_words, 64, input_length=max_sequence_len-1))\n",
    "model.add(Bidirectional(LSTM(150,return_sequences = True)))\n",
    "model.add(Dropout(0.2))\n",
    "model.add(Bidirectional(LSTM(100)))\n",
    "model.add(Dense(total_words/2, activation='relu', kernel_regularizer=regularizers.l2(0.01)))\n",
    "model.add(Dense(total_words,activation='softmax'))\n",
    "model.compile(loss='categorical_crossentropy',optimizer='adam',metrics=['accuracy'])"
   ]
  },
  {
   "cell_type": "code",
   "execution_count": 5,
   "metadata": {},
   "outputs": [
    {
     "name": "stdout",
     "output_type": "stream",
     "text": [
      "Model: \"sequential\"\n",
      "_________________________________________________________________\n",
      "Layer (type)                 Output Shape              Param #   \n",
      "=================================================================\n",
      "embedding (Embedding)        (None, 36, 64)            92800     \n",
      "_________________________________________________________________\n",
      "bidirectional (Bidirectional (None, 36, 300)           258000    \n",
      "_________________________________________________________________\n",
      "dropout (Dropout)            (None, 36, 300)           0         \n",
      "_________________________________________________________________\n",
      "bidirectional_1 (Bidirection (None, 200)               320800    \n",
      "_________________________________________________________________\n",
      "dense (Dense)                (None, 725)               145725    \n",
      "_________________________________________________________________\n",
      "dense_1 (Dense)              (None, 1450)              1052700   \n",
      "=================================================================\n",
      "Total params: 1,870,025\n",
      "Trainable params: 1,870,025\n",
      "Non-trainable params: 0\n",
      "_________________________________________________________________\n",
      "None\n"
     ]
    }
   ],
   "source": [
    "print(model.summary())"
   ]
  },
  {
   "cell_type": "code",
   "execution_count": 11,
   "metadata": {},
   "outputs": [
    {
     "name": "stdout",
     "output_type": "stream",
     "text": [
      "Train on 16599 samples\n",
      "Epoch 1/7\n",
      "16599/16599 [==============================] - 92s 6ms/sample - loss: 3.0860 - accuracy: 0.3574\n",
      "Epoch 2/7\n",
      "16599/16599 [==============================] - 86s 5ms/sample - loss: 3.0575 - accuracy: 0.3586\n",
      "Epoch 3/7\n",
      "16599/16599 [==============================] - 98s 6ms/sample - loss: 3.0304 - accuracy: 0.3612\n",
      "Epoch 4/7\n",
      "16599/16599 [==============================] - 97s 6ms/sample - loss: 3.0040 - accuracy: 0.3674\n",
      "Epoch 5/7\n",
      "16599/16599 [==============================] - 98s 6ms/sample - loss: 2.9810 - accuracy: 0.3686\n",
      "Epoch 6/7\n",
      "16599/16599 [==============================] - 105s 6ms/sample - loss: 2.9595 - accuracy: 0.3752\n",
      "Epoch 7/7\n",
      "16599/16599 [==============================] - 105s 6ms/sample - loss: 2.9354 - accuracy: 0.3747\n"
     ]
    }
   ],
   "source": [
    "history = model.fit(training_data, training_labels,batch_size=500, epochs = 7)"
   ]
  },
  {
   "cell_type": "code",
   "execution_count": 12,
   "metadata": {},
   "outputs": [
    {
     "data": {
      "image/png": "[encoded data removed]",
      "text/plain": [
       "<Figure size 432x288 with 1 Axes>"
      ]
     },
     "metadata": {
      "needs_background": "light"
     },
     "output_type": "display_data"
    },
    {
     "data": {
      "image/png": "[encoded data removed]",
      "text/plain": [
       "<Figure size 432x288 with 1 Axes>"
      ]
     },
     "metadata": {
      "needs_background": "light"
     },
     "output_type": "display_data"
    }
   ],
   "source": [
    "import matplotlib.pyplot as plt\n",
    "\n",
    "acc = history.history['accuracy']\n",
    "loss = history.history['loss']\n",
    "epochs = range(len(acc))\n",
    "\n",
    "plt.plot(epochs, acc, 'b', label='Training accuracy')\n",
    "plt.title(\"Training accuracy\")\n",
    "plt.figure()\n",
    "\n",
    "plt.plot(epochs, loss, 'b', label='Training loss')\n",
    "plt.title('Training loss')\n",
    "plt.legend()\n",
    "\n",
    "plt.show()"
   ]
  },
  {
   "cell_type": "code",
   "execution_count": 34,
   "metadata": {},
   "outputs": [
    {
     "name": "stdout",
     "output_type": "stream",
     "text": [
      "kem karu 6u\n"
     ]
    }
   ],
   "source": [
    "seed_text = \"kem\"\n",
    "next_words = 12\n",
    "  \n",
    "for _ in range(next_words):\n",
    "    token_list = tokenizer.texts_to_sequences([seed_text])[0]\n",
    "    token_list = pad_sequences([token_list], maxlen=max_sequence_len-1,padding='pre')\n",
    "    predicted = model.predict_classes(token_list, verbose=0)\n",
    "    output_word = \"\"\n",
    "    for word, index in tokenizer.word_index.items():\n",
    "        if index == predicted:\n",
    "            output_word = word\n",
    "            break\n",
    "    if output_word not in seed_text:\n",
    "        seed_text += \" \" + output_word\n",
    "print(seed_text)"
   ]
  },
  {
   "cell_type": "markdown",
   "metadata": {},
   "source": [
    "### References"
   ]
  },
  {
   "cell_type": "markdown",
   "metadata": {},
   "source": [
    "1. https://www.tensorflow.org/tutorials/text/text_generation\n",
    "2. \"Natural Language Processing in TensorFlow\" by deeplearning.ai from coursera.org"
   ]
  }
 ],
 "metadata": {
  "kernelspec": {
   "display_name": "Python 3",
   "language": "python",
   "name": "python3"
  },
  "language_info": {
   "codemirror_mode": {
    "name": "ipython",
    "version": 3
   },
   "file_extension": ".py",
   "mimetype": "text/x-python",
   "name": "python",
   "nbconvert_exporter": "python",
   "pygments_lexer": "ipython3",
   "version": "3.7.5"
  }
 },
 "nbformat": 4,
 "nbformat_minor": 2
}
